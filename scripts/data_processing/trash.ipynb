{
 "cells": [
  {
   "cell_type": "code",
   "execution_count": 25,
   "metadata": {},
   "outputs": [
    {
     "name": "stderr",
     "output_type": "stream",
     "text": [
      "/home/intellect/miniconda3/envs/harbinger/lib/python3.9/site-packages/openpyxl/worksheet/header_footer.py:48: UserWarning: Cannot parse header or footer so it will be ignored\n",
      "  warn(\"\"\"Cannot parse header or footer so it will be ignored\"\"\")\n"
     ]
    },
    {
     "data": {
      "text/html": [
       "<div>\n",
       "<style scoped>\n",
       "    .dataframe tbody tr th:only-of-type {\n",
       "        vertical-align: middle;\n",
       "    }\n",
       "\n",
       "    .dataframe tbody tr th {\n",
       "        vertical-align: top;\n",
       "    }\n",
       "\n",
       "    .dataframe thead th {\n",
       "        text-align: right;\n",
       "    }\n",
       "</style>\n",
       "<table border=\"1\" class=\"dataframe\">\n",
       "  <thead>\n",
       "    <tr style=\"text-align: right;\">\n",
       "      <th></th>\n",
       "      <th>County</th>\n",
       "      <th>Cases</th>\n",
       "      <th>Year</th>\n",
       "      <th>Month</th>\n",
       "      <th>Date</th>\n",
       "    </tr>\n",
       "  </thead>\n",
       "  <tbody>\n",
       "    <tr>\n",
       "      <th>15307</th>\n",
       "      <td>Yuba</td>\n",
       "      <td>SC*</td>\n",
       "      <td>2022</td>\n",
       "      <td>8</td>\n",
       "      <td>2022-08-01</td>\n",
       "    </tr>\n",
       "    <tr>\n",
       "      <th>15308</th>\n",
       "      <td>Yuba</td>\n",
       "      <td>SC*</td>\n",
       "      <td>2022</td>\n",
       "      <td>9</td>\n",
       "      <td>2022-09-01</td>\n",
       "    </tr>\n",
       "    <tr>\n",
       "      <th>15309</th>\n",
       "      <td>Yuba</td>\n",
       "      <td>SC*</td>\n",
       "      <td>2022</td>\n",
       "      <td>10</td>\n",
       "      <td>2022-10-01</td>\n",
       "    </tr>\n",
       "    <tr>\n",
       "      <th>15310</th>\n",
       "      <td>Yuba</td>\n",
       "      <td>SC*</td>\n",
       "      <td>2022</td>\n",
       "      <td>11</td>\n",
       "      <td>2022-11-01</td>\n",
       "    </tr>\n",
       "    <tr>\n",
       "      <th>15311</th>\n",
       "      <td>Yuba</td>\n",
       "      <td>SC*</td>\n",
       "      <td>2022</td>\n",
       "      <td>12</td>\n",
       "      <td>2022-12-01</td>\n",
       "    </tr>\n",
       "  </tbody>\n",
       "</table>\n",
       "</div>"
      ],
      "text/plain": [
       "0     County Cases  Year  Month       Date\n",
       "15307   Yuba   SC*  2022      8 2022-08-01\n",
       "15308   Yuba   SC*  2022      9 2022-09-01\n",
       "15309   Yuba   SC*  2022     10 2022-10-01\n",
       "15310   Yuba   SC*  2022     11 2022-11-01\n",
       "15311   Yuba   SC*  2022     12 2022-12-01"
      ]
     },
     "execution_count": 25,
     "metadata": {},
     "output_type": "execute_result"
    }
   ],
   "source": [
    "import pandas as pd\n",
    "import numpy as np\n",
    "\n",
    "df = pd.read_excel(\"../../data/raw/Cocci Case Counts by County and Month, 2001-2022.xlsx\")\n",
    "#relabel the columns to be correct\n",
    "df.columns = df.iloc[0]\n",
    "df = df.drop(df.index[0])\n",
    "df = df.reset_index(drop=True)\n",
    "#remove unnessacary columns\n",
    "columns = df.columns.tolist()\n",
    "new_columns = columns[:-2]\n",
    "df = df[new_columns]\n",
    "#relabel the counties to match the formatting of all our other datasets\n",
    "df['County'] = df['County'].str.title()\n",
    "#relabel the other columns to be more accurate\n",
    "rename_dict = {\n",
    "    'Year and\\nMonth of\\nEstimated\\nOnset': \"YearMonth\",\n",
    "    'Case\\nCount': 'Cases'\n",
    "}\n",
    "df = df.rename(columns=rename_dict)\n",
    "#split the yearmonth columnn into two sepearate columns\n",
    "df[['Year', 'Month']] = df['YearMonth'].str.split('_', expand=True)\n",
    "df['Year'] = df['Year'].astype(int)\n",
    "df['Month'] = df['Month'].astype(int)\n",
    "#create the datecolumn\n",
    "df['Date'] = pd.to_datetime(df['Year'].astype(str) + '-' + df['Month'].astype(str).str.zfill(2) + '-01')\n",
    "#remove the yearmont column as it is unnessacary\n",
    "df = df.drop('YearMonth', axis=1)\n",
    "#figure out what sc is\n",
    "df.tail()"
   ]
  },
  {
   "cell_type": "code",
   "execution_count": 15,
   "metadata": {},
   "outputs": [
    {
     "data": {
      "text/plain": [
       "Index(['County', 'Year and\\nMonth of\\nEstimated\\nOnset', 'Case\\nCount'], dtype='object', name=0)"
      ]
     },
     "execution_count": 15,
     "metadata": {},
     "output_type": "execute_result"
    }
   ],
   "source": [
    "df.columns"
   ]
  },
  {
   "cell_type": "code",
   "execution_count": 26,
   "metadata": {},
   "outputs": [
    {
     "data": {
      "text/plain": [
       "array([0, 2, 1, 3, 5, 10, 4, 7, 6, 8, 15, 13, 16, 9, 11, 'SC*', 12, 17,\n",
       "       21, 19, 18, 14, 26, 20, 31, 29, 44, 95, 78, 52, 54, 35, 79, 36, 64,\n",
       "       50, 90, 59, 48, 67, 65, 33, 27, 25, 22, 24, 30, 56, 61, 53, 39, 49,\n",
       "       43, 40, 32, 34, 96, 113, 128, 91, 72, 62, 63, 51, 45, 87, 88, 73,\n",
       "       86, 46, 23, 28, 38, 55, 37, 42, 81, 134, 58, 93, 114, 132, 98, 109,\n",
       "       100, 41, 47, 76, 60, 141, 151, 224, 148, 85, 175, 140, 117, 123,\n",
       "       150, 142, 176, 195, 147, 126, 106, 124, 138, 146, 139, 127, 149,\n",
       "       102, 74, 66, 194, 214, 257, 184, 103, 68, 120, 77, 75, 89, 104,\n",
       "       143, 101, 111, 188, 129, 118, 125, 83, 80, 69, 208, 284, 442, 286,\n",
       "       215, 217, 105, 121, 135, 167, 164, 243, 304, 332, 326, 253, 198,\n",
       "       237, 178, 116, 163, 152, 144, 185, 137, 158, 179, 70, 57, 115, 264,\n",
       "       323, 413, 307, 193, 94, 174, 191, 335, 365, 440, 474, 338, 331,\n",
       "       207, 168, 171, 245, 223, 269, 226, 306, 282, 254, 314, 276, 359,\n",
       "       228, 271, 213, 281, 262, 366, 339, 251, 301, 260, 153, 156, 196,\n",
       "       268, 244, 234, 283, 242, 154, 210, 280, 240, 238, 250, 235, 218,\n",
       "       192, 209, 180, 246, 186, 227, 204, 82, 119, 99, 92, 112, 107, 122,\n",
       "       130, 136, 97], dtype=object)"
      ]
     },
     "execution_count": 26,
     "metadata": {},
     "output_type": "execute_result"
    }
   ],
   "source": [
    "df['Cases'].unique()"
   ]
  },
  {
   "cell_type": "code",
   "execution_count": null,
   "metadata": {},
   "outputs": [],
   "source": []
  }
 ],
 "metadata": {
  "kernelspec": {
   "display_name": "harbinger",
   "language": "python",
   "name": "python3"
  },
  "language_info": {
   "codemirror_mode": {
    "name": "ipython",
    "version": 3
   },
   "file_extension": ".py",
   "mimetype": "text/x-python",
   "name": "python",
   "nbconvert_exporter": "python",
   "pygments_lexer": "ipython3",
   "version": "3.9.19"
  }
 },
 "nbformat": 4,
 "nbformat_minor": 2
}
